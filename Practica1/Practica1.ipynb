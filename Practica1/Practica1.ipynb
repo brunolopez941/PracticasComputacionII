{
  "nbformat": 4,
  "nbformat_minor": 0,
  "metadata": {
    "colab": {
      "name": "Practica1.ipynb",
      "provenance": [],
      "collapsed_sections": []
    },
    "kernelspec": {
      "name": "python3",
      "display_name": "Python 3"
    },
    "language_info": {
      "name": "python"
    }
  },
  "cells": [
    {
      "cell_type": "markdown",
      "metadata": {
        "id": "G8LiC57HFI0_"
      },
      "source": [
        "Calcular inversa de una matriz usando método de Gauss-Jordan"
      ]
    },
    {
      "cell_type": "code",
      "metadata": {
        "colab": {
          "base_uri": "https://localhost:8080/"
        },
        "id": "fWyRLFqdFIgP",
        "outputId": "c7685e5e-cdb0-43fa-eade-26a822e51885"
      },
      "source": [
        "import numpy as np\n",
        "\n",
        "class GaussJordan:\n",
        "\n",
        "    def intercambiarFilas(self, index1, index2, M): \n",
        "        M[index1],M[index2]=M[index2],M[index1]\n",
        "        return M\n",
        "   \n",
        "    def multiplicarFila(self, k, fila, colInicial, M):\n",
        "        M[fila] = k * M[fila]\n",
        "        return M\n",
        "\n",
        "    def restarFilas(self, f1, f2, M):\n",
        "        M[f1] =  M[f2] - M[f1]\n",
        "        return M \n",
        "\n",
        "    def buscarPivote(self, filas, col, M):\n",
        "        indiceFila = -1\n",
        "        maxNum = np.inf *-1\n",
        "        for i in range(col+1, filas):\n",
        "            if(M[i][col] > maxNum and M[i][col] != 0):\n",
        "                indiceFila = i\n",
        "                maxNum = M[i][col]\n",
        "        return indiceFila\n",
        "\n",
        "    def eliminacionGaussiana(self, f, c, M):\n",
        "        # Definición de variables\n",
        "        indicePiv = -1\n",
        "        \n",
        "        for i in range(f):\n",
        "            pivote = M[i][i]\n",
        "            if pivote == 0:\n",
        "                indicePiv = self.buscarPivote(f, i, M) # Se implementa pivoteo parcial\n",
        "                #TODO: Implementar pivoteo completo\n",
        "                if indicePiv == -1:\n",
        "                    print(\"El sistema no tiene solución\")\n",
        "                    exit(0)\n",
        "                else:\n",
        "                    M = self.intercambiarFilas(indicePiv, i, M)\n",
        "                    pivote = M[i][i]\n",
        "            \n",
        "            for j in range(i+1, f): # Realizar la eliminación de los elementos debajo del pivote\n",
        "                if M[j][i] != 0:\n",
        "                    k = pivote / M[j][i]    # Multiplicador para la eliminación\n",
        "                    M = self.multiplicarFila(k, j, i, M)\n",
        "                    M = self.restarFilas(j, i, M)\n",
        "\n",
        "    def GJ(self,f,c,M):\n",
        "        for i in range(f):\n",
        "            pivote=M[f-1-i][f-1-i]\n",
        "            M[f-1-i]=M[f-1-i]/pivote\n",
        "            for j in range(f-1-i):\n",
        "              M[j]=M[j]-M[j][f-1-i]*M[f-1-i]\n",
        "\n",
        "    def inversa(self,f,M):\n",
        "      I=np.identity(f)\n",
        "      matriz=np.concatenate((M,I),axis=1)\n",
        "      return matriz\n",
        "\n",
        "    def obtenerInversa(self,f,matriz):\n",
        "      inversa=[]\n",
        "      for i in range(f):\n",
        "        aux=[]\n",
        "        for j in range(f):\n",
        "          aux.append(matriz[i][j+len(matriz)])\n",
        "        inversa.append(aux)\n",
        "      return inversa\n",
        "\n",
        "\n",
        "def main():\n",
        "\n",
        "  A=[[2,1,-1,8],[-3,-1,2,-11],[-2,1,2,-3]]\n",
        "  M=[]\n",
        "  for i in range(len(A)):\n",
        "    aux=[]\n",
        "    for j in range(len(A)):\n",
        "      aux.append(A[i][j])\n",
        "    M.append(aux)\n",
        "\n",
        "  # Obtención de inversa\n",
        "  objGJ=GaussJordan()\n",
        "  matriz=objGJ.inversa(len(M),M)\n",
        "  objGJ.eliminacionGaussiana(len(M),len(M[0]),matriz)\n",
        "  objGJ.GJ(len(M),len(M[0]),matriz)\n",
        "  inversa=objGJ.obtenerInversa(len(M),matriz)\n",
        "\n",
        "  # Vector columna de resultados\n",
        "  b=np.zeros((len(A),1))\n",
        "  for i in range(len(b)):\n",
        "    b[i]=A[i][-1]\n",
        "\n",
        "  # Pasarlos a matrices de numpy para facilitar la multiplicación de matrices\n",
        "  M=np.matrix(M)\n",
        "  A=np.matrix(A)\n",
        "  inversa=np.matrix(inversa)\n",
        "\n",
        "  print(\"Matriz original:\\n\",A)\n",
        "  print(\"Matriz inversa:\\n\",inversa)\n",
        "  print(\"Solución:\\n\",inversa@b)\n",
        "\n",
        "\n",
        "if __name__==\"__main__\":\n",
        "  main()"
      ],
      "execution_count": null,
      "outputs": [
        {
          "output_type": "stream",
          "text": [
            "Matriz original:\n",
            " [[  2   1  -1   8]\n",
            " [ -3  -1   2 -11]\n",
            " [ -2   1   2  -3]]\n",
            "Matriz inversa:\n",
            " [[ 4.  3. -1.]\n",
            " [-2. -2.  1.]\n",
            " [ 5.  4. -1.]]\n",
            "Solución:\n",
            " [[ 2.]\n",
            " [ 3.]\n",
            " [-1.]]\n"
          ],
          "name": "stdout"
        }
      ]
    }
  ]
}